{
 "cells": [
  {
   "cell_type": "code",
   "execution_count": 1,
   "id": "objective-norman",
   "metadata": {},
   "outputs": [],
   "source": [
    "import pandas as pd\n",
    "import numpy as np\n",
    "df = pd.read_csv(\"products.csv\")"
   ]
  },
  {
   "cell_type": "code",
   "execution_count": 2,
   "id": "silent-nomination",
   "metadata": {},
   "outputs": [
    {
     "data": {
      "text/plain": [
       "(500000, 3)"
      ]
     },
     "execution_count": 2,
     "metadata": {},
     "output_type": "execute_result"
    }
   ],
   "source": [
    "df.shape"
   ]
  },
  {
   "cell_type": "code",
   "execution_count": 3,
   "id": "facial-saint",
   "metadata": {},
   "outputs": [
    {
     "data": {
      "text/html": [
       "<div>\n",
       "<style scoped>\n",
       "    .dataframe tbody tr th:only-of-type {\n",
       "        vertical-align: middle;\n",
       "    }\n",
       "\n",
       "    .dataframe tbody tr th {\n",
       "        vertical-align: top;\n",
       "    }\n",
       "\n",
       "    .dataframe thead th {\n",
       "        text-align: right;\n",
       "    }\n",
       "</style>\n",
       "<table border=\"1\" class=\"dataframe\">\n",
       "  <thead>\n",
       "    <tr style=\"text-align: right;\">\n",
       "      <th></th>\n",
       "      <th>name</th>\n",
       "      <th>sku</th>\n",
       "      <th>description</th>\n",
       "    </tr>\n",
       "  </thead>\n",
       "  <tbody>\n",
       "    <tr>\n",
       "      <th>0</th>\n",
       "      <td>Bryce Jones</td>\n",
       "      <td>lay-raise-best-end</td>\n",
       "      <td>Art community floor adult your single type. Pe...</td>\n",
       "    </tr>\n",
       "    <tr>\n",
       "      <th>1</th>\n",
       "      <td>John Robinson</td>\n",
       "      <td>cup-return-guess</td>\n",
       "      <td>Produce successful hot tree past action young ...</td>\n",
       "    </tr>\n",
       "    <tr>\n",
       "      <th>2</th>\n",
       "      <td>Theresa Taylor</td>\n",
       "      <td>step-onto</td>\n",
       "      <td>Choice should lead budget task. Author best me...</td>\n",
       "    </tr>\n",
       "    <tr>\n",
       "      <th>3</th>\n",
       "      <td>Roger Huerta</td>\n",
       "      <td>citizen-some-middle</td>\n",
       "      <td>Important fight wrong position fine. Friend so...</td>\n",
       "    </tr>\n",
       "    <tr>\n",
       "      <th>4</th>\n",
       "      <td>John Buckley</td>\n",
       "      <td>term-important</td>\n",
       "      <td>Alone maybe education risk despite way.\\nWant ...</td>\n",
       "    </tr>\n",
       "  </tbody>\n",
       "</table>\n",
       "</div>"
      ],
      "text/plain": [
       "             name                  sku  \\\n",
       "0     Bryce Jones   lay-raise-best-end   \n",
       "1   John Robinson     cup-return-guess   \n",
       "2  Theresa Taylor            step-onto   \n",
       "3    Roger Huerta  citizen-some-middle   \n",
       "4    John Buckley       term-important   \n",
       "\n",
       "                                         description  \n",
       "0  Art community floor adult your single type. Pe...  \n",
       "1  Produce successful hot tree past action young ...  \n",
       "2  Choice should lead budget task. Author best me...  \n",
       "3  Important fight wrong position fine. Friend so...  \n",
       "4  Alone maybe education risk despite way.\\nWant ...  "
      ]
     },
     "execution_count": 3,
     "metadata": {},
     "output_type": "execute_result"
    }
   ],
   "source": [
    "df.head()"
   ]
  },
  {
   "cell_type": "code",
   "execution_count": 4,
   "id": "lightweight-tactics",
   "metadata": {},
   "outputs": [
    {
     "data": {
      "text/plain": [
       "'Produce successful hot tree past action young song. Himself then tax eye little last state vote. Country down list that speech economy leave.'"
      ]
     },
     "execution_count": 4,
     "metadata": {},
     "output_type": "execute_result"
    }
   ],
   "source": [
    "df[\"description\"][1]"
   ]
  },
  {
   "cell_type": "code",
   "execution_count": 5,
   "id": "constitutional-funds",
   "metadata": {},
   "outputs": [
    {
     "data": {
      "text/plain": [
       "name           0\n",
       "sku            0\n",
       "description    0\n",
       "dtype: int64"
      ]
     },
     "execution_count": 5,
     "metadata": {},
     "output_type": "execute_result"
    }
   ],
   "source": [
    "df.isnull().sum()"
   ]
  },
  {
   "cell_type": "code",
   "execution_count": 7,
   "id": "female-barbados",
   "metadata": {},
   "outputs": [
    {
     "data": {
      "text/plain": [
       "name           14\n",
       "sku            14\n",
       "description    14\n",
       "dtype: int64"
      ]
     },
     "execution_count": 7,
     "metadata": {},
     "output_type": "execute_result"
    }
   ],
   "source": [
    "df[df[\"name\"]==\"Aaron Anderson\"].count()"
   ]
  },
  {
   "cell_type": "code",
   "execution_count": 1,
   "id": "caroline-marshall",
   "metadata": {},
   "outputs": [],
   "source": [
    "import pandas as pd\n",
    "import sqlite3\n",
    "\n",
    "#read the CSV\n",
    "df = pd.read_csv('products.csv')\n",
    "#connect to a database\n",
    "conn = sqlite3.connect(\"Product_Database.db\") #if the db does not exist, this creates a Any_Database_Name.db file in the current directory\n",
    "#store your table in the database:\n",
    "df.to_sql('Product_Table', conn)\n",
    "#read a SQL Query out of your database and into a pandas dataframe"
   ]
  },
  {
   "cell_type": "code",
   "execution_count": 4,
   "id": "front-pharmaceutical",
   "metadata": {},
   "outputs": [],
   "source": [
    "sql_string = 'SELECT name,count(*) FROM Product_Table GROUP BY name HAVING COUNT(*)>8 LIMIT 10'\n",
    "df = pd.read_sql(sql_string, conn)"
   ]
  },
  {
   "cell_type": "code",
   "execution_count": 5,
   "id": "modern-alignment",
   "metadata": {},
   "outputs": [
    {
     "data": {
      "text/html": [
       "<div>\n",
       "<style scoped>\n",
       "    .dataframe tbody tr th:only-of-type {\n",
       "        vertical-align: middle;\n",
       "    }\n",
       "\n",
       "    .dataframe tbody tr th {\n",
       "        vertical-align: top;\n",
       "    }\n",
       "\n",
       "    .dataframe thead th {\n",
       "        text-align: right;\n",
       "    }\n",
       "</style>\n",
       "<table border=\"1\" class=\"dataframe\">\n",
       "  <thead>\n",
       "    <tr style=\"text-align: right;\">\n",
       "      <th></th>\n",
       "      <th>name</th>\n",
       "      <th>count(*)</th>\n",
       "    </tr>\n",
       "  </thead>\n",
       "  <tbody>\n",
       "    <tr>\n",
       "      <th>0</th>\n",
       "      <td>Aaron Anderson</td>\n",
       "      <td>14</td>\n",
       "    </tr>\n",
       "    <tr>\n",
       "      <th>1</th>\n",
       "      <td>Aaron Brown</td>\n",
       "      <td>21</td>\n",
       "    </tr>\n",
       "    <tr>\n",
       "      <th>2</th>\n",
       "      <td>Aaron Campbell</td>\n",
       "      <td>9</td>\n",
       "    </tr>\n",
       "    <tr>\n",
       "      <th>3</th>\n",
       "      <td>Aaron Coleman</td>\n",
       "      <td>9</td>\n",
       "    </tr>\n",
       "    <tr>\n",
       "      <th>4</th>\n",
       "      <td>Aaron Davis</td>\n",
       "      <td>17</td>\n",
       "    </tr>\n",
       "    <tr>\n",
       "      <th>5</th>\n",
       "      <td>Aaron Garcia</td>\n",
       "      <td>11</td>\n",
       "    </tr>\n",
       "    <tr>\n",
       "      <th>6</th>\n",
       "      <td>Aaron Harris</td>\n",
       "      <td>9</td>\n",
       "    </tr>\n",
       "    <tr>\n",
       "      <th>7</th>\n",
       "      <td>Aaron Hernandez</td>\n",
       "      <td>14</td>\n",
       "    </tr>\n",
       "    <tr>\n",
       "      <th>8</th>\n",
       "      <td>Aaron Jackson</td>\n",
       "      <td>9</td>\n",
       "    </tr>\n",
       "    <tr>\n",
       "      <th>9</th>\n",
       "      <td>Aaron Jones</td>\n",
       "      <td>24</td>\n",
       "    </tr>\n",
       "  </tbody>\n",
       "</table>\n",
       "</div>"
      ],
      "text/plain": [
       "              name  count(*)\n",
       "0   Aaron Anderson        14\n",
       "1      Aaron Brown        21\n",
       "2   Aaron Campbell         9\n",
       "3    Aaron Coleman         9\n",
       "4      Aaron Davis        17\n",
       "5     Aaron Garcia        11\n",
       "6     Aaron Harris         9\n",
       "7  Aaron Hernandez        14\n",
       "8    Aaron Jackson         9\n",
       "9      Aaron Jones        24"
      ]
     },
     "execution_count": 5,
     "metadata": {},
     "output_type": "execute_result"
    }
   ],
   "source": [
    "df"
   ]
  },
  {
   "cell_type": "code",
   "execution_count": null,
   "id": "stable-publisher",
   "metadata": {},
   "outputs": [],
   "source": []
  }
 ],
 "metadata": {
  "kernelspec": {
   "display_name": "Python 3",
   "language": "python",
   "name": "python3"
  },
  "language_info": {
   "codemirror_mode": {
    "name": "ipython",
    "version": 3
   },
   "file_extension": ".py",
   "mimetype": "text/x-python",
   "name": "python",
   "nbconvert_exporter": "python",
   "pygments_lexer": "ipython3",
   "version": "3.8.5"
  }
 },
 "nbformat": 4,
 "nbformat_minor": 5
}
